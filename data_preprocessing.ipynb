{
 "cells": [
  {
   "cell_type": "markdown",
   "metadata": {},
   "source": [
    "# Data Preprocessing"
   ]
  },
  {
   "cell_type": "code",
   "execution_count": 1,
   "metadata": {},
   "outputs": [],
   "source": [
    "import pandas as pd\n",
    "import numpy as np\n",
    "import warnings\n",
    "\n",
    "warnings.filterwarnings(\"ignore\")"
   ]
  },
  {
   "cell_type": "code",
   "execution_count": 2,
   "metadata": {},
   "outputs": [],
   "source": [
    "fhv_df = pd.read_csv(\"data/FHVHV_Trip_Data.csv\", index_col=[0])\n",
    "yellow_df = pd.read_csv(\"data/Yellow_Trip_Data.csv\", index_col=[0])\n",
    "green_df = pd.read_csv(\"data/Green_Trip_Data.csv\", index_col=[0])"
   ]
  },
  {
   "cell_type": "code",
   "execution_count": 3,
   "metadata": {},
   "outputs": [],
   "source": [
    "taxi_zones_df = pd.read_csv(\"data/Taxi_Zones_Data.csv\")\n",
    "taxi_zones_df.columns = taxi_zones_df.columns.str.lower()\n",
    "taxi_zones_df.set_index(\"locationid\", inplace=True)"
   ]
  },
  {
   "cell_type": "code",
   "execution_count": 4,
   "metadata": {},
   "outputs": [
    {
     "data": {
      "text/html": [
       "<div>\n",
       "<style scoped>\n",
       "    .dataframe tbody tr th:only-of-type {\n",
       "        vertical-align: middle;\n",
       "    }\n",
       "\n",
       "    .dataframe tbody tr th {\n",
       "        vertical-align: top;\n",
       "    }\n",
       "\n",
       "    .dataframe thead th {\n",
       "        text-align: right;\n",
       "    }\n",
       "</style>\n",
       "<table border=\"1\" class=\"dataframe\">\n",
       "  <thead>\n",
       "    <tr style=\"text-align: right;\">\n",
       "      <th></th>\n",
       "      <th>borough</th>\n",
       "      <th>zone</th>\n",
       "      <th>service_zone</th>\n",
       "    </tr>\n",
       "    <tr>\n",
       "      <th>locationid</th>\n",
       "      <th></th>\n",
       "      <th></th>\n",
       "      <th></th>\n",
       "    </tr>\n",
       "  </thead>\n",
       "  <tbody>\n",
       "    <tr>\n",
       "      <th>1</th>\n",
       "      <td>EWR</td>\n",
       "      <td>Newark Airport</td>\n",
       "      <td>EWR</td>\n",
       "    </tr>\n",
       "    <tr>\n",
       "      <th>2</th>\n",
       "      <td>Queens</td>\n",
       "      <td>Jamaica Bay</td>\n",
       "      <td>Boro Zone</td>\n",
       "    </tr>\n",
       "    <tr>\n",
       "      <th>3</th>\n",
       "      <td>Bronx</td>\n",
       "      <td>Allerton/Pelham Gardens</td>\n",
       "      <td>Boro Zone</td>\n",
       "    </tr>\n",
       "    <tr>\n",
       "      <th>4</th>\n",
       "      <td>Manhattan</td>\n",
       "      <td>Alphabet City</td>\n",
       "      <td>Yellow Zone</td>\n",
       "    </tr>\n",
       "    <tr>\n",
       "      <th>5</th>\n",
       "      <td>Staten Island</td>\n",
       "      <td>Arden Heights</td>\n",
       "      <td>Boro Zone</td>\n",
       "    </tr>\n",
       "  </tbody>\n",
       "</table>\n",
       "</div>"
      ],
      "text/plain": [
       "                  borough                     zone service_zone\n",
       "locationid                                                     \n",
       "1                     EWR           Newark Airport          EWR\n",
       "2                  Queens              Jamaica Bay    Boro Zone\n",
       "3                   Bronx  Allerton/Pelham Gardens    Boro Zone\n",
       "4               Manhattan            Alphabet City  Yellow Zone\n",
       "5           Staten Island            Arden Heights    Boro Zone"
      ]
     },
     "execution_count": 4,
     "metadata": {},
     "output_type": "execute_result"
    }
   ],
   "source": [
    "taxi_zones_df.head()"
   ]
  },
  {
   "cell_type": "markdown",
   "metadata": {},
   "source": [
    "# For-Hire Dataset"
   ]
  },
  {
   "cell_type": "code",
   "execution_count": 5,
   "metadata": {},
   "outputs": [
    {
     "data": {
      "text/plain": [
       "np.int64(0)"
      ]
     },
     "execution_count": 5,
     "metadata": {},
     "output_type": "execute_result"
    }
   ],
   "source": [
    "fhv_df.duplicated().sum()"
   ]
  },
  {
   "cell_type": "code",
   "execution_count": 6,
   "metadata": {},
   "outputs": [
    {
     "data": {
      "text/plain": [
       "hvfhs_license_num\n",
       "HV0003    10521027\n",
       "HV0005     3908330\n",
       "HV0004       70643\n",
       "Name: count, dtype: int64"
      ]
     },
     "execution_count": 6,
     "metadata": {},
     "output_type": "execute_result"
    }
   ],
   "source": [
    "fhv_df[\"hvfhs_license_num\"].value_counts()"
   ]
  },
  {
   "cell_type": "code",
   "execution_count": 7,
   "metadata": {},
   "outputs": [
    {
     "data": {
      "text/plain": [
       "hvfhs_license_num\n",
       "Uber    10521027\n",
       "Lyft     3908330\n",
       "Via        70643\n",
       "Name: count, dtype: int64"
      ]
     },
     "execution_count": 7,
     "metadata": {},
     "output_type": "execute_result"
    }
   ],
   "source": [
    "# Replace the business code with the name\n",
    "fhv_df[\"hvfhs_license_num\"] = fhv_df[\"hvfhs_license_num\"].replace(to_replace=[\"HV0002\", \"HV0003\", \"HV0004\", \"HV0005\"], value=[\"Juno\", \"Uber\", \"Via\", \"Lyft\"])\n",
    "fhv_df[\"hvfhs_license_num\"].value_counts()"
   ]
  },
  {
   "cell_type": "code",
   "execution_count": 8,
   "metadata": {},
   "outputs": [],
   "source": [
    "# Filter to only Uber and Lyft\n",
    "fhv_df = fhv_df[~(fhv_df[\"hvfhs_license_num\"]==\"Via\")]\n",
    "fhv_df.reset_index(drop=True, inplace=True)"
   ]
  },
  {
   "cell_type": "code",
   "execution_count": 9,
   "metadata": {},
   "outputs": [],
   "source": [
    "# Columns not needed\n",
    "bad_cols = [\"dispatching_base_num\", \"originating_base_num\"]\n",
    "fhv_df.drop(columns=bad_cols, inplace=True)"
   ]
  },
  {
   "cell_type": "code",
   "execution_count": 20,
   "metadata": {},
   "outputs": [
    {
     "data": {
      "text/plain": [
       "business                False\n",
       "request_datetime        False\n",
       "on_scene_datetime        True\n",
       "pickup_datetime         False\n",
       "dropoff_datetime        False\n",
       "pick_up_borough          True\n",
       "pick_up_zone            False\n",
       "drop_off_borough         True\n",
       "drop_off_zone           False\n",
       "trip_miles              False\n",
       "trip_time               False\n",
       "base_passenger_fare     False\n",
       "tolls                   False\n",
       "black_car_fund          False\n",
       "sales_tax               False\n",
       "congestion_surcharge    False\n",
       "airport_fee             False\n",
       "tips                    False\n",
       "driver_pay              False\n",
       "shared_request_flag     False\n",
       "shared_match_flag       False\n",
       "access_a_ride_flag      False\n",
       "wav_request_flag        False\n",
       "wav_match_flag          False\n",
       "dtype: bool"
      ]
     },
     "execution_count": 20,
     "metadata": {},
     "output_type": "execute_result"
    }
   ],
   "source": [
    "# Columns with Null values\n",
    "fhv_df.isna().any()"
   ]
  },
  {
   "cell_type": "code",
   "execution_count": 11,
   "metadata": {},
   "outputs": [],
   "source": [
    "fhv_df[\"airport_fee\"] = fhv_df[\"airport_fee\"].replace(np.nan, 0.00)"
   ]
  },
  {
   "cell_type": "code",
   "execution_count": 12,
   "metadata": {},
   "outputs": [],
   "source": [
    "# Pick up and drop off locations\n",
    "pick_up_borough = fhv_df[\"pulocationid\"].map(taxi_zones_df[\"borough\"])\n",
    "pick_up_zone = fhv_df[\"pulocationid\"].map(taxi_zones_df[\"zone\"])\n",
    "drop_off_borough = fhv_df[\"dolocationid\"].map(taxi_zones_df[\"borough\"])\n",
    "drop_off_zone = fhv_df[\"dolocationid\"].map(taxi_zones_df[\"zone\"])\n",
    "\n",
    "# Put into the dataframe\n",
    "fhv_df.insert(loc=7, column=\"pick_up_borough\", value=pick_up_borough)\n",
    "fhv_df.insert(loc=8, column=\"pick_up_zone\", value=pick_up_zone)\n",
    "fhv_df.insert(loc=9, column=\"drop_off_borough\", value=drop_off_borough)\n",
    "fhv_df.insert(loc=10, column=\"drop_off_zone\", value=drop_off_zone)"
   ]
  },
  {
   "cell_type": "code",
   "execution_count": 13,
   "metadata": {},
   "outputs": [],
   "source": [
    "fhv_df.drop(columns=[\"pulocationid\", \"dolocationid\"], inplace=True)"
   ]
  },
  {
   "cell_type": "code",
   "execution_count": 14,
   "metadata": {},
   "outputs": [],
   "source": [
    "# Fix a couple of column names\n",
    "fhv_df.rename(columns={\"hvfhs_license_num\": \"business\", \"bcf\": \"black_car_fund\"}, inplace=True)"
   ]
  },
  {
   "cell_type": "code",
   "execution_count": 15,
   "metadata": {},
   "outputs": [
    {
     "data": {
      "text/html": [
       "<div>\n",
       "<style scoped>\n",
       "    .dataframe tbody tr th:only-of-type {\n",
       "        vertical-align: middle;\n",
       "    }\n",
       "\n",
       "    .dataframe tbody tr th {\n",
       "        vertical-align: top;\n",
       "    }\n",
       "\n",
       "    .dataframe thead th {\n",
       "        text-align: right;\n",
       "    }\n",
       "</style>\n",
       "<table border=\"1\" class=\"dataframe\">\n",
       "  <thead>\n",
       "    <tr style=\"text-align: right;\">\n",
       "      <th></th>\n",
       "      <th>business</th>\n",
       "      <th>request_datetime</th>\n",
       "      <th>on_scene_datetime</th>\n",
       "      <th>pickup_datetime</th>\n",
       "      <th>dropoff_datetime</th>\n",
       "      <th>pick_up_borough</th>\n",
       "      <th>pick_up_zone</th>\n",
       "      <th>drop_off_borough</th>\n",
       "      <th>drop_off_zone</th>\n",
       "      <th>trip_miles</th>\n",
       "      <th>...</th>\n",
       "      <th>sales_tax</th>\n",
       "      <th>congestion_surcharge</th>\n",
       "      <th>airport_fee</th>\n",
       "      <th>tips</th>\n",
       "      <th>driver_pay</th>\n",
       "      <th>shared_request_flag</th>\n",
       "      <th>shared_match_flag</th>\n",
       "      <th>access_a_ride_flag</th>\n",
       "      <th>wav_request_flag</th>\n",
       "      <th>wav_match_flag</th>\n",
       "    </tr>\n",
       "  </thead>\n",
       "  <tbody>\n",
       "    <tr>\n",
       "      <th>0</th>\n",
       "      <td>Uber</td>\n",
       "      <td>2020-01-21 18:46:40</td>\n",
       "      <td>2020-01-21 18:47:21</td>\n",
       "      <td>2020-01-21 18:47:57</td>\n",
       "      <td>2020-01-21 18:58:42</td>\n",
       "      <td>Manhattan</td>\n",
       "      <td>Two Bridges/Seward Park</td>\n",
       "      <td>Brooklyn</td>\n",
       "      <td>Williamsburg (North Side)</td>\n",
       "      <td>2.540</td>\n",
       "      <td>...</td>\n",
       "      <td>1.18</td>\n",
       "      <td>2.75</td>\n",
       "      <td>0.0</td>\n",
       "      <td>3.0</td>\n",
       "      <td>8.11</td>\n",
       "      <td>N</td>\n",
       "      <td>N</td>\n",
       "      <td></td>\n",
       "      <td>N</td>\n",
       "      <td>N</td>\n",
       "    </tr>\n",
       "    <tr>\n",
       "      <th>1</th>\n",
       "      <td>Uber</td>\n",
       "      <td>2020-01-17 19:27:42</td>\n",
       "      <td>2020-01-17 19:28:38</td>\n",
       "      <td>2020-01-17 19:29:55</td>\n",
       "      <td>2020-01-17 19:45:27</td>\n",
       "      <td>Manhattan</td>\n",
       "      <td>East Village</td>\n",
       "      <td>Manhattan</td>\n",
       "      <td>Union Sq</td>\n",
       "      <td>1.660</td>\n",
       "      <td>...</td>\n",
       "      <td>1.15</td>\n",
       "      <td>2.75</td>\n",
       "      <td>0.0</td>\n",
       "      <td>1.0</td>\n",
       "      <td>9.50</td>\n",
       "      <td>N</td>\n",
       "      <td>N</td>\n",
       "      <td></td>\n",
       "      <td>N</td>\n",
       "      <td>N</td>\n",
       "    </tr>\n",
       "    <tr>\n",
       "      <th>2</th>\n",
       "      <td>Lyft</td>\n",
       "      <td>2020-01-18 11:57:57</td>\n",
       "      <td>NaN</td>\n",
       "      <td>2020-01-18 12:00:50</td>\n",
       "      <td>2020-01-18 12:08:26</td>\n",
       "      <td>Manhattan</td>\n",
       "      <td>Midtown East</td>\n",
       "      <td>Manhattan</td>\n",
       "      <td>Lenox Hill West</td>\n",
       "      <td>1.394</td>\n",
       "      <td>...</td>\n",
       "      <td>0.64</td>\n",
       "      <td>2.75</td>\n",
       "      <td>0.0</td>\n",
       "      <td>0.0</td>\n",
       "      <td>5.39</td>\n",
       "      <td>N</td>\n",
       "      <td>N</td>\n",
       "      <td>N</td>\n",
       "      <td>N</td>\n",
       "      <td>N</td>\n",
       "    </tr>\n",
       "    <tr>\n",
       "      <th>3</th>\n",
       "      <td>Lyft</td>\n",
       "      <td>2020-01-13 19:27:35</td>\n",
       "      <td>NaN</td>\n",
       "      <td>2020-01-13 19:31:23</td>\n",
       "      <td>2020-01-13 19:42:23</td>\n",
       "      <td>Manhattan</td>\n",
       "      <td>Central Harlem North</td>\n",
       "      <td>Bronx</td>\n",
       "      <td>West Concourse</td>\n",
       "      <td>1.647</td>\n",
       "      <td>...</td>\n",
       "      <td>0.61</td>\n",
       "      <td>0.00</td>\n",
       "      <td>0.0</td>\n",
       "      <td>1.0</td>\n",
       "      <td>7.24</td>\n",
       "      <td>N</td>\n",
       "      <td>N</td>\n",
       "      <td>N</td>\n",
       "      <td>N</td>\n",
       "      <td>N</td>\n",
       "    </tr>\n",
       "    <tr>\n",
       "      <th>4</th>\n",
       "      <td>Lyft</td>\n",
       "      <td>2020-01-24 03:56:08</td>\n",
       "      <td>NaN</td>\n",
       "      <td>2020-01-24 03:59:28</td>\n",
       "      <td>2020-01-24 04:11:37</td>\n",
       "      <td>Queens</td>\n",
       "      <td>LaGuardia Airport</td>\n",
       "      <td>Queens</td>\n",
       "      <td>Elmhurst</td>\n",
       "      <td>3.859</td>\n",
       "      <td>...</td>\n",
       "      <td>0.91</td>\n",
       "      <td>0.00</td>\n",
       "      <td>0.0</td>\n",
       "      <td>1.0</td>\n",
       "      <td>10.24</td>\n",
       "      <td>N</td>\n",
       "      <td>N</td>\n",
       "      <td>N</td>\n",
       "      <td>N</td>\n",
       "      <td>N</td>\n",
       "    </tr>\n",
       "  </tbody>\n",
       "</table>\n",
       "<p>5 rows × 24 columns</p>\n",
       "</div>"
      ],
      "text/plain": [
       "  business     request_datetime    on_scene_datetime      pickup_datetime  \\\n",
       "0     Uber  2020-01-21 18:46:40  2020-01-21 18:47:21  2020-01-21 18:47:57   \n",
       "1     Uber  2020-01-17 19:27:42  2020-01-17 19:28:38  2020-01-17 19:29:55   \n",
       "2     Lyft  2020-01-18 11:57:57                  NaN  2020-01-18 12:00:50   \n",
       "3     Lyft  2020-01-13 19:27:35                  NaN  2020-01-13 19:31:23   \n",
       "4     Lyft  2020-01-24 03:56:08                  NaN  2020-01-24 03:59:28   \n",
       "\n",
       "      dropoff_datetime pick_up_borough             pick_up_zone  \\\n",
       "0  2020-01-21 18:58:42       Manhattan  Two Bridges/Seward Park   \n",
       "1  2020-01-17 19:45:27       Manhattan             East Village   \n",
       "2  2020-01-18 12:08:26       Manhattan             Midtown East   \n",
       "3  2020-01-13 19:42:23       Manhattan     Central Harlem North   \n",
       "4  2020-01-24 04:11:37          Queens        LaGuardia Airport   \n",
       "\n",
       "  drop_off_borough              drop_off_zone  trip_miles  ...  sales_tax  \\\n",
       "0         Brooklyn  Williamsburg (North Side)       2.540  ...       1.18   \n",
       "1        Manhattan                   Union Sq       1.660  ...       1.15   \n",
       "2        Manhattan            Lenox Hill West       1.394  ...       0.64   \n",
       "3            Bronx             West Concourse       1.647  ...       0.61   \n",
       "4           Queens                   Elmhurst       3.859  ...       0.91   \n",
       "\n",
       "   congestion_surcharge  airport_fee  tips  driver_pay  shared_request_flag  \\\n",
       "0                  2.75          0.0   3.0        8.11                    N   \n",
       "1                  2.75          0.0   1.0        9.50                    N   \n",
       "2                  2.75          0.0   0.0        5.39                    N   \n",
       "3                  0.00          0.0   1.0        7.24                    N   \n",
       "4                  0.00          0.0   1.0       10.24                    N   \n",
       "\n",
       "   shared_match_flag  access_a_ride_flag  wav_request_flag wav_match_flag  \n",
       "0                  N                                     N              N  \n",
       "1                  N                                     N              N  \n",
       "2                  N                   N                 N              N  \n",
       "3                  N                   N                 N              N  \n",
       "4                  N                   N                 N              N  \n",
       "\n",
       "[5 rows x 24 columns]"
      ]
     },
     "execution_count": 15,
     "metadata": {},
     "output_type": "execute_result"
    }
   ],
   "source": [
    "fhv_df.head()"
   ]
  },
  {
   "cell_type": "code",
   "execution_count": 16,
   "metadata": {},
   "outputs": [
    {
     "name": "stdout",
     "output_type": "stream",
     "text": [
      "<class 'pandas.core.frame.DataFrame'>\n",
      "RangeIndex: 14429357 entries, 0 to 14429356\n",
      "Data columns (total 24 columns):\n",
      " #   Column                Dtype  \n",
      "---  ------                -----  \n",
      " 0   business              object \n",
      " 1   request_datetime      object \n",
      " 2   on_scene_datetime     object \n",
      " 3   pickup_datetime       object \n",
      " 4   dropoff_datetime      object \n",
      " 5   pick_up_borough       object \n",
      " 6   pick_up_zone          object \n",
      " 7   drop_off_borough      object \n",
      " 8   drop_off_zone         object \n",
      " 9   trip_miles            float64\n",
      " 10  trip_time             int64  \n",
      " 11  base_passenger_fare   float64\n",
      " 12  tolls                 float64\n",
      " 13  black_car_fund        float64\n",
      " 14  sales_tax             float64\n",
      " 15  congestion_surcharge  float64\n",
      " 16  airport_fee           float64\n",
      " 17  tips                  float64\n",
      " 18  driver_pay            float64\n",
      " 19  shared_request_flag   object \n",
      " 20  shared_match_flag     object \n",
      " 21  access_a_ride_flag    object \n",
      " 22  wav_request_flag      object \n",
      " 23  wav_match_flag        object \n",
      "dtypes: float64(9), int64(1), object(14)\n",
      "memory usage: 2.6+ GB\n"
     ]
    }
   ],
   "source": [
    "fhv_df.info()"
   ]
  },
  {
   "cell_type": "code",
   "execution_count": 17,
   "metadata": {},
   "outputs": [],
   "source": [
    "fhv_df.to_csv(\"data/FHVHV_Trip_Data_Clean.csv\", index=False)"
   ]
  }
 ],
 "metadata": {
  "kernelspec": {
   "display_name": "nyc_tlc_trip_data-hX5l9hKQ",
   "language": "python",
   "name": "python3"
  },
  "language_info": {
   "codemirror_mode": {
    "name": "ipython",
    "version": 3
   },
   "file_extension": ".py",
   "mimetype": "text/x-python",
   "name": "python",
   "nbconvert_exporter": "python",
   "pygments_lexer": "ipython3",
   "version": "3.13.0"
  }
 },
 "nbformat": 4,
 "nbformat_minor": 2
}
